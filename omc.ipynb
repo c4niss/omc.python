{
 "cells": [
  {
   "cell_type": "code",
   "execution_count": null,
   "metadata": {},
   "outputs": [],
   "source": [
    "import random\n",
    "money = 1000\n",
    "lucky=False\n",
    "def roulette(money):\n",
    "    print(\"welcome to the roulette \")\n",
    "    bet = int(input(\"enter a value:\"))\n",
    "    number= int(input(\"your lucky number:\"))\n",
    "    while(money>0 and money<2000):\n",
    "        bet = int(input(\"enter a value:\"))\n",
    "        number= int(input(\"your lucky number:\"))\n",
    "        if number>0 and number<50:\n",
    "            lucky_num= random.randint(0 ,50)\n",
    "            print(lucky_num)\n",
    "            if lucky_num == number:\n",
    "                lucky=True\n",
    "            else: \n",
    "                lucky=False    \n",
    "            if lucky:\n",
    "                print(\"u won\")               \n",
    "                money += bet\n",
    "            else:\n",
    "                print(\"u lose\")\n",
    "                money-=bet\n",
    "            print(money)    \n",
    "        else:\n",
    "            break\n",
    "\n",
    "roulette(money)  "
   ]
  }
 ],
 "metadata": {
  "language_info": {
   "name": "python"
  },
  "orig_nbformat": 4
 },
 "nbformat": 4,
 "nbformat_minor": 2
}
